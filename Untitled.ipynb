{
 "cells": [
  {
   "cell_type": "code",
   "execution_count": 1,
   "metadata": {},
   "outputs": [
    {
     "name": "stdout",
     "output_type": "stream",
     "text": [
      "Name :  Mohammad Noman Hassan\n",
      "Father's Name :  Mohammad Usman\n",
      "Phone :  0347-2057351\n",
      "Email :  ghufranm936@gmail.com\n",
      "Date of Birth :  29 January 2002\n",
      "Gender :  Male\n",
      "Qaulification :  Intermediate\n",
      "Address :  Fs 111 Jinnah Sqauare Malir Colony Karachi\n"
     ]
    }
   ],
   "source": [
    "Name=\"Mohammad Noman Hassan\"\n",
    "FathersName=\"Mohammad Usman\"\n",
    "Phone=\"0347-2057351\"\n",
    "Email=\"ghufranm936@gmail.com\"\n",
    "DateOfBirth=\"29 January 2002\"\n",
    "Gender=\"Male\"\n",
    "Qaulification=\"Intermediate\"\n",
    "Address=\"Fs 111 Jinnah Sqauare Malir Colony Karachi\"\n",
    "\n",
    "print(\"Name : \",Name)\n",
    "print(\"Father's Name : \",FathersName)\n",
    "print(\"Phone : \",Phone)\n",
    "print(\"Email : \",Email)\n",
    "print(\"Date of Birth : \",DateOfBirth)\n",
    "print(\"Gender : \",Gender)\n",
    "print(\"Qaulification : \",Qaulification)\n",
    "print(\"Address : \",Address)\n",
    "\n"
   ]
  },
  {
   "cell_type": "code",
   "execution_count": null,
   "metadata": {},
   "outputs": [],
   "source": []
  }
 ],
 "metadata": {
  "kernelspec": {
   "display_name": "Python 3",
   "language": "python",
   "name": "python3"
  },
  "language_info": {
   "codemirror_mode": {
    "name": "ipython",
    "version": 3
   },
   "file_extension": ".py",
   "mimetype": "text/x-python",
   "name": "python",
   "nbconvert_exporter": "python",
   "pygments_lexer": "ipython3",
   "version": "3.7.4"
  }
 },
 "nbformat": 4,
 "nbformat_minor": 2
}
